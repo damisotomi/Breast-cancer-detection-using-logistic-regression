{
 "cells": [
  {
   "cell_type": "markdown",
   "id": "d60f0545",
   "metadata": {},
   "source": [
    "### PROBLEM STATEMENT\n",
    "We would be performing logistic regression on a data set gotten from UCI machine learning repository to classify breast\n",
    "cancer as either benign or malignant. \n",
    "\n",
    "A clean version of this data set is used (No missing values) so no data preprocessing needed to clean the data."
   ]
  },
  {
   "cell_type": "markdown",
   "id": "be14c627",
   "metadata": {},
   "source": [
    "### IMPORTING THE LIBRARIES"
   ]
  },
  {
   "cell_type": "code",
   "execution_count": 97,
   "id": "70cc466c",
   "metadata": {},
   "outputs": [],
   "source": [
    "import pandas as pd"
   ]
  },
  {
   "cell_type": "markdown",
   "id": "fe4ff4dd",
   "metadata": {},
   "source": [
    "### IMPORTING THE DATASET"
   ]
  },
  {
   "cell_type": "code",
   "execution_count": 98,
   "id": "99dfea9a",
   "metadata": {},
   "outputs": [],
   "source": [
    "dataset=pd.read_csv('breast_cancer.csv')"
   ]
  },
  {
   "cell_type": "markdown",
   "id": "9b4f9704",
   "metadata": {},
   "source": [
    "### CREATING THE SET OF FEATURES(INDEPENDENT VARIABLES) AND THE DEPENDENT VARIABLE"
   ]
  },
  {
   "cell_type": "code",
   "execution_count": 99,
   "id": "797c501b",
   "metadata": {},
   "outputs": [],
   "source": [
    "x=dataset.iloc[:,1:-1].values\n",
    "y=dataset.iloc[:,-1].values"
   ]
  },
  {
   "cell_type": "markdown",
   "id": "9bdb051c",
   "metadata": {},
   "source": [
    "### SPLITTING INTO TRAINING SET AND TEST SET"
   ]
  },
  {
   "cell_type": "code",
   "execution_count": 100,
   "id": "fb2f8307",
   "metadata": {},
   "outputs": [],
   "source": [
    "from sklearn.model_selection import train_test_split\n",
    "x_train, x_test, y_train, y_test=train_test_split(x,y,test_size=0.2, random_state=0)"
   ]
  },
  {
   "cell_type": "markdown",
   "id": "7353c081",
   "metadata": {},
   "source": [
    "### FITTING THE LOGISTIC REGRESSION MODEL ON THE TRAINING SET"
   ]
  },
  {
   "cell_type": "code",
   "execution_count": 101,
   "id": "36b51ed3",
   "metadata": {},
   "outputs": [
    {
     "data": {
      "text/plain": [
       "LogisticRegression(random_state=0)"
      ]
     },
     "execution_count": 101,
     "metadata": {},
     "output_type": "execute_result"
    }
   ],
   "source": [
    "from sklearn.linear_model import LogisticRegression\n",
    "classifier=LogisticRegression(random_state=0)\n",
    "classifier.fit(x_train,y_train)"
   ]
  },
  {
   "cell_type": "markdown",
   "id": "78392c6e",
   "metadata": {},
   "source": [
    "### PREDICTING THE RESULT"
   ]
  },
  {
   "cell_type": "code",
   "execution_count": 102,
   "id": "deba1565",
   "metadata": {},
   "outputs": [],
   "source": [
    "y_pred=classifier.predict(x_test)"
   ]
  },
  {
   "cell_type": "markdown",
   "id": "5f62c0ec",
   "metadata": {},
   "source": [
    "### MAKING THE CONFUSION MATRIX"
   ]
  },
  {
   "cell_type": "code",
   "execution_count": 103,
   "id": "9b5f0ad7",
   "metadata": {},
   "outputs": [
    {
     "data": {
      "text/plain": [
       "array([[84,  3],\n",
       "       [ 3, 47]], dtype=int64)"
      ]
     },
     "execution_count": 103,
     "metadata": {},
     "output_type": "execute_result"
    }
   ],
   "source": [
    "from sklearn.metrics import confusion_matrix\n",
    "cm=confusion_matrix(y_test,y_pred)\n",
    "cm"
   ]
  },
  {
   "cell_type": "markdown",
   "id": "a569f7ea",
   "metadata": {},
   "source": [
    "### COMPUTING THE ACCURACY WITH K FOLD CROSS VALIDATION\n",
    "We are using this method to get a relevant measure of the accuracy of our logistic regression model"
   ]
  },
  {
   "cell_type": "code",
   "execution_count": 104,
   "id": "9b5ff010",
   "metadata": {},
   "outputs": [
    {
     "name": "stdout",
     "output_type": "stream",
     "text": [
      "Accurcay: 96.70%\n",
      "Standard variation: 1.97%\n"
     ]
    }
   ],
   "source": [
    "from sklearn.model_selection import cross_val_score\n",
    "accuracies=cross_val_score(estimator=classifier,X=x_train, y=y_train, cv=10)\n",
    "print('Accurcay: {:.2f}%'.format(accuracies.mean()*100))\n",
    "print('Standard variation: {:.2f}%'.format(accuracies.std()*100))"
   ]
  },
  {
   "cell_type": "markdown",
   "id": "571a0593",
   "metadata": {},
   "source": [
    "### SUMMARY\n",
    "The Accuracy of our model is 96.70%.\n",
    "\n",
    "The standard variation is 1.97% meaning the accuracy of each fold since we are using 10 folds, fall just within + or - 1.97 \n",
    "of our accuracy score which is 96.70%\n",
    "\n",
    "The logistic regression model is obiviosuly performing well on our dataset and could definitely be used by doctors in their \n",
    "classification of breast cancer cases"
   ]
  },
  {
   "cell_type": "code",
   "execution_count": null,
   "id": "95be21b5",
   "metadata": {},
   "outputs": [],
   "source": []
  }
 ],
 "metadata": {
  "kernelspec": {
   "display_name": "Python 3 (ipykernel)",
   "language": "python",
   "name": "python3"
  },
  "language_info": {
   "codemirror_mode": {
    "name": "ipython",
    "version": 3
   },
   "file_extension": ".py",
   "mimetype": "text/x-python",
   "name": "python",
   "nbconvert_exporter": "python",
   "pygments_lexer": "ipython3",
   "version": "3.9.6"
  }
 },
 "nbformat": 4,
 "nbformat_minor": 5
}
